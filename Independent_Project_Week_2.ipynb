{
  "nbformat": 4,
  "nbformat_minor": 0,
  "metadata": {
    "colab": {
      "name": "Independent Project - Week 2",
      "provenance": [],
      "collapsed_sections": [],
      "authorship_tag": "ABX9TyM2rfOGMIQffo1cS+QEvOPf",
      "include_colab_link": true
    },
    "kernelspec": {
      "name": "python3",
      "display_name": "Python 3"
    }
  },
  "cells": [
    {
      "cell_type": "markdown",
      "metadata": {
        "id": "view-in-github",
        "colab_type": "text"
      },
      "source": [
        "<a href=\"https://colab.research.google.com/github/peterzk/Indepedent-Project-W2/blob/master/Independent_Project_Week_2.ipynb\" target=\"_parent\"><img src=\"https://colab.research.google.com/assets/colab-badge.svg\" alt=\"Open In Colab\"/></a>"
      ]
    },
    {
      "cell_type": "markdown",
      "metadata": {
        "id": "JO4k5FZDNP4j",
        "colab_type": "text"
      },
      "source": [
        "# Exploratory Data Analysis"
      ]
    },
    {
      "cell_type": "markdown",
      "metadata": {
        "id": "M-VRvwzjOver",
        "colab_type": "text"
      },
      "source": [
        "## 1. Defining the Question"
      ]
    },
    {
      "cell_type": "markdown",
      "metadata": {
        "id": "H9o5uEmxOJK8",
        "colab_type": "text"
      },
      "source": [
        "### a) Specifying the Data Analytic Question"
      ]
    },
    {
      "cell_type": "markdown",
      "metadata": {
        "id": "zxXbWaRiCgEk",
        "colab_type": "text"
      },
      "source": [
        "What are the major factors that determine access to financial services.\n"
      ]
    },
    {
      "cell_type": "markdown",
      "metadata": {
        "id": "s1ny_0oIOQFw",
        "colab_type": "text"
      },
      "source": [
        "### b) Defining the Metric for Success"
      ]
    },
    {
      "cell_type": "markdown",
      "metadata": {
        "id": "WT-BJd95CoLj",
        "colab_type": "text"
      },
      "source": [
        "We want to create a model that helps us predict at whether given factors such as Age, Gender, Location, Cell Phone Access, Level of Education, Marital Status, Type of Job, and Household Size determine whether one has access to financial services. Financial inclusion is measured by whether a person has a bank account or not. "
      ]
    },
    {
      "cell_type": "markdown",
      "metadata": {
        "id": "Syu1DbK8OecO",
        "colab_type": "text"
      },
      "source": [
        "### d) Recording the Experimental Design"
      ]
    },
    {
      "cell_type": "markdown",
      "metadata": {
        "id": "oAjmXsqNEDko",
        "colab_type": "text"
      },
      "source": [
        "* My experimental design involves the analysis of survey data collected from respondents in Kenya, Rwanda, Tanzania, and Uganda. The goal is to use the survey results to create a predictive model. The model takes in indepedent variables and uses these to predict the depedent variable. \n",
        "* The depedent variable is \"Has a Bank Account\" which means that the respondent has a bank account. \n",
        "* The indepedent variables are Age, Gender, Location, Cell Phone Access, Level of Education, Marital Status, Type of Job, and Household Size."
      ]
    },
    {
      "cell_type": "markdown",
      "metadata": {
        "id": "ZRUW7vSBOnCf",
        "colab_type": "text"
      },
      "source": [
        "### e) Data Relevance"
      ]
    },
    {
      "cell_type": "markdown",
      "metadata": {
        "id": "3DiU89XkPUH1",
        "colab_type": "text"
      },
      "source": [
        "## 2. Reading the Data"
      ]
    },
    {
      "cell_type": "code",
      "metadata": {
        "id": "r6sbrVADABUu",
        "colab_type": "code",
        "colab": {
          "base_uri": "https://localhost:8080/",
          "height": 71
        },
        "outputId": "c07951d4-3b89-4f45-f019-50b92d063f09"
      },
      "source": [
        "# importing the modules that we will be using\n",
        "\n",
        "import pandas as pd\n",
        "import numpy as np\n",
        "import matplotlib.pyplot as plt\n",
        "import seaborn as sns"
      ],
      "execution_count": 1,
      "outputs": [
        {
          "output_type": "stream",
          "text": [
            "/usr/local/lib/python3.6/dist-packages/statsmodels/tools/_testing.py:19: FutureWarning: pandas.util.testing is deprecated. Use the functions in the public API at pandas.testing instead.\n",
            "  import pandas.util.testing as tm\n"
          ],
          "name": "stderr"
        }
      ]
    },
    {
      "cell_type": "code",
      "metadata": {
        "id": "dFrDZzsNCi1y",
        "colab_type": "code",
        "colab": {}
      },
      "source": [
        "# Loading the data set from the source\n",
        "\n",
        "finance_df = pd.read_csv('/content/Financial Dataset - 1.csv')\n"
      ],
      "execution_count": 0,
      "outputs": []
    },
    {
      "cell_type": "markdown",
      "metadata": {
        "id": "YXrW6_6VPalj",
        "colab_type": "text"
      },
      "source": [
        "## 3. Checking the Data"
      ]
    },
    {
      "cell_type": "code",
      "metadata": {
        "id": "8DiKOoQbDLDd",
        "colab_type": "code",
        "outputId": "771907fc-7e1a-448c-c23e-c0011bb1dbe4",
        "colab": {
          "base_uri": "https://localhost:8080/",
          "height": 34
        }
      },
      "source": [
        "# Determining the no. of records in the dataset\n",
        "\n",
        "finance_df.shape"
      ],
      "execution_count": 3,
      "outputs": [
        {
          "output_type": "execute_result",
          "data": {
            "text/plain": [
              "(23524, 13)"
            ]
          },
          "metadata": {
            "tags": []
          },
          "execution_count": 3
        }
      ]
    },
    {
      "cell_type": "code",
      "metadata": {
        "id": "fQOJP5pGDZCM",
        "colab_type": "code",
        "outputId": "ba4328ef-df08-4358-aff4-8639b358524f",
        "colab": {
          "base_uri": "https://localhost:8080/",
          "height": 377
        }
      },
      "source": [
        "# Previewing the top of the dataset\n",
        "\n",
        "finance_df.head()"
      ],
      "execution_count": 4,
      "outputs": [
        {
          "output_type": "execute_result",
          "data": {
            "text/html": [
              "<div>\n",
              "<style scoped>\n",
              "    .dataframe tbody tr th:only-of-type {\n",
              "        vertical-align: middle;\n",
              "    }\n",
              "\n",
              "    .dataframe tbody tr th {\n",
              "        vertical-align: top;\n",
              "    }\n",
              "\n",
              "    .dataframe thead th {\n",
              "        text-align: right;\n",
              "    }\n",
              "</style>\n",
              "<table border=\"1\" class=\"dataframe\">\n",
              "  <thead>\n",
              "    <tr style=\"text-align: right;\">\n",
              "      <th></th>\n",
              "      <th>country</th>\n",
              "      <th>year</th>\n",
              "      <th>uniqueid</th>\n",
              "      <th>Has a Bank account</th>\n",
              "      <th>Type of Location</th>\n",
              "      <th>Cell Phone Access</th>\n",
              "      <th>household_size</th>\n",
              "      <th>Respondent Age</th>\n",
              "      <th>gender_of_respondent</th>\n",
              "      <th>The relathip with head</th>\n",
              "      <th>marital_status</th>\n",
              "      <th>Level of Educuation</th>\n",
              "      <th>Type of Job</th>\n",
              "    </tr>\n",
              "  </thead>\n",
              "  <tbody>\n",
              "    <tr>\n",
              "      <th>0</th>\n",
              "      <td>Kenya</td>\n",
              "      <td>2018</td>\n",
              "      <td>uniqueid_1</td>\n",
              "      <td>Yes</td>\n",
              "      <td>Rural</td>\n",
              "      <td>Yes</td>\n",
              "      <td>3.0</td>\n",
              "      <td>24.0</td>\n",
              "      <td>Female</td>\n",
              "      <td>Spouse</td>\n",
              "      <td>Married/Living together</td>\n",
              "      <td>Secondary education</td>\n",
              "      <td>Self employed</td>\n",
              "    </tr>\n",
              "    <tr>\n",
              "      <th>1</th>\n",
              "      <td>Kenya</td>\n",
              "      <td>2018</td>\n",
              "      <td>uniqueid_2</td>\n",
              "      <td>No</td>\n",
              "      <td>Rural</td>\n",
              "      <td>No</td>\n",
              "      <td>5.0</td>\n",
              "      <td>70.0</td>\n",
              "      <td>Female</td>\n",
              "      <td>Head of Household</td>\n",
              "      <td>Widowed</td>\n",
              "      <td>No formal education</td>\n",
              "      <td>Government Dependent</td>\n",
              "    </tr>\n",
              "    <tr>\n",
              "      <th>2</th>\n",
              "      <td>Kenya</td>\n",
              "      <td>2018</td>\n",
              "      <td>uniqueid_3</td>\n",
              "      <td>Yes</td>\n",
              "      <td>Urban</td>\n",
              "      <td>Yes</td>\n",
              "      <td>5.0</td>\n",
              "      <td>26.0</td>\n",
              "      <td>Male</td>\n",
              "      <td>Other relative</td>\n",
              "      <td>Single/Never Married</td>\n",
              "      <td>Vocational/Specialised training</td>\n",
              "      <td>Self employed</td>\n",
              "    </tr>\n",
              "    <tr>\n",
              "      <th>3</th>\n",
              "      <td>Kenya</td>\n",
              "      <td>2018</td>\n",
              "      <td>uniqueid_4</td>\n",
              "      <td>No</td>\n",
              "      <td>Rural</td>\n",
              "      <td>Yes</td>\n",
              "      <td>5.0</td>\n",
              "      <td>34.0</td>\n",
              "      <td>Female</td>\n",
              "      <td>Head of Household</td>\n",
              "      <td>Married/Living together</td>\n",
              "      <td>Primary education</td>\n",
              "      <td>Formally employed Private</td>\n",
              "    </tr>\n",
              "    <tr>\n",
              "      <th>4</th>\n",
              "      <td>Kenya</td>\n",
              "      <td>2018</td>\n",
              "      <td>uniqueid_5</td>\n",
              "      <td>No</td>\n",
              "      <td>Urban</td>\n",
              "      <td>No</td>\n",
              "      <td>8.0</td>\n",
              "      <td>26.0</td>\n",
              "      <td>Male</td>\n",
              "      <td>Child</td>\n",
              "      <td>Single/Never Married</td>\n",
              "      <td>Primary education</td>\n",
              "      <td>Informally employed</td>\n",
              "    </tr>\n",
              "  </tbody>\n",
              "</table>\n",
              "</div>"
            ],
            "text/plain": [
              "  country  year  ...              Level of Educuation                Type of Job\n",
              "0   Kenya  2018  ...              Secondary education              Self employed\n",
              "1   Kenya  2018  ...              No formal education       Government Dependent\n",
              "2   Kenya  2018  ...  Vocational/Specialised training              Self employed\n",
              "3   Kenya  2018  ...                Primary education  Formally employed Private\n",
              "4   Kenya  2018  ...                Primary education        Informally employed\n",
              "\n",
              "[5 rows x 13 columns]"
            ]
          },
          "metadata": {
            "tags": []
          },
          "execution_count": 4
        }
      ]
    },
    {
      "cell_type": "code",
      "metadata": {
        "id": "UYUFLVA4DmWk",
        "colab_type": "code",
        "outputId": "c75ee11e-1698-4ebe-865d-0a5dc8055208",
        "colab": {
          "base_uri": "https://localhost:8080/",
          "height": 360
        }
      },
      "source": [
        "# Previewing the bottom of the dataset\n",
        "\n",
        "finance_df.tail()"
      ],
      "execution_count": 5,
      "outputs": [
        {
          "output_type": "execute_result",
          "data": {
            "text/html": [
              "<div>\n",
              "<style scoped>\n",
              "    .dataframe tbody tr th:only-of-type {\n",
              "        vertical-align: middle;\n",
              "    }\n",
              "\n",
              "    .dataframe tbody tr th {\n",
              "        vertical-align: top;\n",
              "    }\n",
              "\n",
              "    .dataframe thead th {\n",
              "        text-align: right;\n",
              "    }\n",
              "</style>\n",
              "<table border=\"1\" class=\"dataframe\">\n",
              "  <thead>\n",
              "    <tr style=\"text-align: right;\">\n",
              "      <th></th>\n",
              "      <th>country</th>\n",
              "      <th>year</th>\n",
              "      <th>uniqueid</th>\n",
              "      <th>Has a Bank account</th>\n",
              "      <th>Type of Location</th>\n",
              "      <th>Cell Phone Access</th>\n",
              "      <th>household_size</th>\n",
              "      <th>Respondent Age</th>\n",
              "      <th>gender_of_respondent</th>\n",
              "      <th>The relathip with head</th>\n",
              "      <th>marital_status</th>\n",
              "      <th>Level of Educuation</th>\n",
              "      <th>Type of Job</th>\n",
              "    </tr>\n",
              "  </thead>\n",
              "  <tbody>\n",
              "    <tr>\n",
              "      <th>23519</th>\n",
              "      <td>Uganda</td>\n",
              "      <td>2018</td>\n",
              "      <td>uniqueid_2113</td>\n",
              "      <td>No</td>\n",
              "      <td>Rural</td>\n",
              "      <td>Yes</td>\n",
              "      <td>4.0</td>\n",
              "      <td>48.0</td>\n",
              "      <td>Female</td>\n",
              "      <td>Head of Household</td>\n",
              "      <td>Divorced/Seperated</td>\n",
              "      <td>No formal education</td>\n",
              "      <td>Other Income</td>\n",
              "    </tr>\n",
              "    <tr>\n",
              "      <th>23520</th>\n",
              "      <td>Uganda</td>\n",
              "      <td>2018</td>\n",
              "      <td>uniqueid_2114</td>\n",
              "      <td>No</td>\n",
              "      <td>Rural</td>\n",
              "      <td>Yes</td>\n",
              "      <td>2.0</td>\n",
              "      <td>27.0</td>\n",
              "      <td>Female</td>\n",
              "      <td>Head of Household</td>\n",
              "      <td>Single/Never Married</td>\n",
              "      <td>Secondary education</td>\n",
              "      <td>Other Income</td>\n",
              "    </tr>\n",
              "    <tr>\n",
              "      <th>23521</th>\n",
              "      <td>Uganda</td>\n",
              "      <td>2018</td>\n",
              "      <td>uniqueid_2115</td>\n",
              "      <td>No</td>\n",
              "      <td>Rural</td>\n",
              "      <td>Yes</td>\n",
              "      <td>5.0</td>\n",
              "      <td>27.0</td>\n",
              "      <td>Female</td>\n",
              "      <td>Parent</td>\n",
              "      <td>Widowed</td>\n",
              "      <td>Primary education</td>\n",
              "      <td>Other Income</td>\n",
              "    </tr>\n",
              "    <tr>\n",
              "      <th>23522</th>\n",
              "      <td>Uganda</td>\n",
              "      <td>2018</td>\n",
              "      <td>uniqueid_2116</td>\n",
              "      <td>No</td>\n",
              "      <td>Urban</td>\n",
              "      <td>Yes</td>\n",
              "      <td>7.0</td>\n",
              "      <td>30.0</td>\n",
              "      <td>Female</td>\n",
              "      <td>Parent</td>\n",
              "      <td>Divorced/Seperated</td>\n",
              "      <td>Secondary education</td>\n",
              "      <td>Self employed</td>\n",
              "    </tr>\n",
              "    <tr>\n",
              "      <th>23523</th>\n",
              "      <td>Uganda</td>\n",
              "      <td>2018</td>\n",
              "      <td>uniqueid_2117</td>\n",
              "      <td>No</td>\n",
              "      <td>Rural</td>\n",
              "      <td>Yes</td>\n",
              "      <td>10.0</td>\n",
              "      <td>20.0</td>\n",
              "      <td>Male</td>\n",
              "      <td>Child</td>\n",
              "      <td>Single/Never Married</td>\n",
              "      <td>Secondary education</td>\n",
              "      <td>No Income</td>\n",
              "    </tr>\n",
              "  </tbody>\n",
              "</table>\n",
              "</div>"
            ],
            "text/plain": [
              "      country  year  ...  Level of Educuation    Type of Job\n",
              "23519  Uganda  2018  ...  No formal education   Other Income\n",
              "23520  Uganda  2018  ...  Secondary education   Other Income\n",
              "23521  Uganda  2018  ...    Primary education   Other Income\n",
              "23522  Uganda  2018  ...  Secondary education  Self employed\n",
              "23523  Uganda  2018  ...  Secondary education      No Income\n",
              "\n",
              "[5 rows x 13 columns]"
            ]
          },
          "metadata": {
            "tags": []
          },
          "execution_count": 5
        }
      ]
    },
    {
      "cell_type": "code",
      "metadata": {
        "id": "NtmPFQqED8pO",
        "colab_type": "code",
        "outputId": "799905e9-525d-4b09-9203-bda8106a3feb",
        "colab": {
          "base_uri": "https://localhost:8080/",
          "height": 255
        }
      },
      "source": [
        "# Checking whether each columb has an appropriate datatype\n",
        "\n",
        "finance_df.dtypes"
      ],
      "execution_count": 6,
      "outputs": [
        {
          "output_type": "execute_result",
          "data": {
            "text/plain": [
              "country                    object\n",
              "year                        int64\n",
              "uniqueid                   object\n",
              "Has a Bank account         object\n",
              "Type of Location           object\n",
              "Cell Phone Access          object\n",
              "household_size            float64\n",
              "Respondent Age            float64\n",
              "gender_of_respondent       object\n",
              "The relathip with head     object\n",
              "marital_status             object\n",
              "Level of Educuation        object\n",
              "Type of Job                object\n",
              "dtype: object"
            ]
          },
          "metadata": {
            "tags": []
          },
          "execution_count": 6
        }
      ]
    },
    {
      "cell_type": "markdown",
      "metadata": {
        "id": "LAgAsNg9Pnwo",
        "colab_type": "text"
      },
      "source": [
        "## 4. External Data Source Validation"
      ]
    },
    {
      "cell_type": "markdown",
      "metadata": {
        "id": "7TsiNnquPtLU",
        "colab_type": "text"
      },
      "source": [
        "## 5. Tidying the Dataset"
      ]
    },
    {
      "cell_type": "code",
      "metadata": {
        "id": "d4VDb3nOGA8P",
        "colab_type": "code",
        "outputId": "f4277bc2-ee60-448e-d70e-3d86ee8d90ff",
        "colab": {
          "base_uri": "https://localhost:8080/",
          "height": 102
        }
      },
      "source": [
        "finance_df.columns"
      ],
      "execution_count": 120,
      "outputs": [
        {
          "output_type": "execute_result",
          "data": {
            "text/plain": [
              "Index(['country', 'year', 'uniqueid', 'Has a Bank account', 'Type of Location',\n",
              "       'Cell Phone Access', 'household_size', 'Respondent Age',\n",
              "       'gender_of_respondent', 'The relathip with head', 'marital_status',\n",
              "       'Level of Educuation', 'Type of Job'],\n",
              "      dtype='object')"
            ]
          },
          "metadata": {
            "tags": []
          },
          "execution_count": 120
        }
      ]
    },
    {
      "cell_type": "code",
      "metadata": {
        "id": "hGUSjY0HOhiB",
        "colab_type": "code",
        "outputId": "0fca1405-140b-4e0d-ba25-1e5e6cfb09d5",
        "colab": {
          "base_uri": "https://localhost:8080/",
          "height": 255
        }
      },
      "source": [
        "# Checking for Null values\n",
        "\n",
        "finance_df.isna().sum()"
      ],
      "execution_count": 121,
      "outputs": [
        {
          "output_type": "execute_result",
          "data": {
            "text/plain": [
              "country                   14\n",
              "year                       0\n",
              "uniqueid                   0\n",
              "Has a Bank account        36\n",
              "Type of Location          15\n",
              "Cell Phone Access         11\n",
              "household_size            28\n",
              "Respondent Age            34\n",
              "gender_of_respondent      34\n",
              "The relathip with head     4\n",
              "marital_status            32\n",
              "Level of Educuation       29\n",
              "Type of Job               30\n",
              "dtype: int64"
            ]
          },
          "metadata": {
            "tags": []
          },
          "execution_count": 121
        }
      ]
    },
    {
      "cell_type": "code",
      "metadata": {
        "id": "i3wHf8QwPJki",
        "colab_type": "code",
        "colab": {}
      },
      "source": [
        "# Dealing with Null values\n",
        "# I decided to drop Null values \n",
        "\n",
        "finance_df1 = finance_df.dropna()"
      ],
      "execution_count": 0,
      "outputs": []
    },
    {
      "cell_type": "code",
      "metadata": {
        "id": "sQ5-aGwQPnoE",
        "colab_type": "code",
        "outputId": "604a4027-55f1-487c-acdc-5d1096e68fcd",
        "colab": {
          "base_uri": "https://localhost:8080/",
          "height": 34
        }
      },
      "source": [
        "# Checking for any duplicated values\n",
        "\n",
        "finance_df1.duplicated().sum()"
      ],
      "execution_count": 123,
      "outputs": [
        {
          "output_type": "execute_result",
          "data": {
            "text/plain": [
              "0"
            ]
          },
          "metadata": {
            "tags": []
          },
          "execution_count": 123
        }
      ]
    },
    {
      "cell_type": "code",
      "metadata": {
        "id": "khfZHaPdFtV6",
        "colab_type": "code",
        "outputId": "c6ba18ae-0102-4ba0-d8ae-bd64b79fa10e",
        "colab": {
          "base_uri": "https://localhost:8080/",
          "height": 279
        }
      },
      "source": [
        "# Checking for outliers \n",
        "\n",
        "sns.boxplot(x=finance_df1['Respondent Age'])\n",
        "plt.show()"
      ],
      "execution_count": 124,
      "outputs": [
        {
          "output_type": "display_data",
          "data": {
            "image/png": "[encoded data removed]",
            "text/plain": [
              "<Figure size 432x288 with 1 Axes>"
            ]
          },
          "metadata": {
            "tags": [],
            "needs_background": "light"
          }
        }
      ]
    },
    {
      "cell_type": "code",
      "metadata": {
        "id": "oWEWPZ6JNDNQ",
        "colab_type": "code",
        "outputId": "5aa8aa8d-550b-4ccc-8e7f-352dced91ab9",
        "colab": {
          "base_uri": "https://localhost:8080/",
          "height": 280
        }
      },
      "source": [
        "sns.boxplot(x=finance_df1['household_size'])\n",
        "plt.show()"
      ],
      "execution_count": 126,
      "outputs": [
        {
          "output_type": "display_data",
          "data": {
            "image/png": "[encoded data removed]",
            "text/plain": [
              "<Figure size 432x288 with 1 Axes>"
            ]
          },
          "metadata": {
            "tags": [],
            "needs_background": "light"
          }
        }
      ]
    },
    {
      "cell_type": "code",
      "metadata": {
        "id": "E35Mk_YiN_Mc",
        "colab_type": "code",
        "outputId": "26f572b6-77dc-47c3-a8bf-7b44b48f9b6b",
        "colab": {
          "base_uri": "https://localhost:8080/",
          "height": 102
        }
      },
      "source": [
        "# Dealing with Anomalies\n",
        "\n",
        "year_anomaly = finance_df1[finance_df1['year']>2018].index\n",
        "finance_df1.drop(year_anomaly, inplace=True)"
      ],
      "execution_count": 130,
      "outputs": [
        {
          "output_type": "stream",
          "text": [
            "/usr/local/lib/python3.6/dist-packages/pandas/core/frame.py:3997: SettingWithCopyWarning: \n",
            "A value is trying to be set on a copy of a slice from a DataFrame\n",
            "\n",
            "See the caveats in the documentation: https://pandas.pydata.org/pandas-docs/stable/user_guide/indexing.html#returning-a-view-versus-a-copy\n",
            "  errors=errors,\n"
          ],
          "name": "stderr"
        }
      ]
    },
    {
      "cell_type": "code",
      "metadata": {
        "id": "LN5quQLi69HN",
        "colab_type": "code",
        "colab": {
          "base_uri": "https://localhost:8080/",
          "height": 34
        },
        "outputId": "b69be80c-fc11-457f-f3d2-fce43502485d"
      },
      "source": [
        "finance_df1['year'].unique()"
      ],
      "execution_count": 131,
      "outputs": [
        {
          "output_type": "execute_result",
          "data": {
            "text/plain": [
              "array([2018, 2016, 2017])"
            ]
          },
          "metadata": {
            "tags": []
          },
          "execution_count": 131
        }
      ]
    },
    {
      "cell_type": "code",
      "metadata": {
        "id": "moUTap3I7gXA",
        "colab_type": "code",
        "colab": {}
      },
      "source": [
        "finance_df1.columns = ['country','uniqueid', 'year', 'Has a Bank account', 'Type of Location',\n",
        "       'Cell Phone Access', 'household_size', 'Respondent Age',\n",
        "       'gender_of_respondent', 'The relationship with head', 'marital_status',\n",
        "       'Level of Educuation', 'Type of Job']"
      ],
      "execution_count": 0,
      "outputs": []
    },
    {
      "cell_type": "markdown",
      "metadata": {
        "id": "Xs-vULh2P2cS",
        "colab_type": "text"
      },
      "source": [
        "## 6. Exploratory Analysis"
      ]
    },
    {
      "cell_type": "markdown",
      "metadata": {
        "id": "HwFCHzvvP6Vc",
        "colab_type": "text"
      },
      "source": [
        "### a) Univariate Exploratory Analysis"
      ]
    },
    {
      "cell_type": "code",
      "metadata": {
        "id": "Dkb2gqFcRX2t",
        "colab_type": "code",
        "outputId": "6a2be8ba-ab18-4205-9dfe-169a802ed320",
        "colab": {
          "base_uri": "https://localhost:8080/",
          "height": 102
        }
      },
      "source": [
        "# Checking colums of the dataframe that we will use for\n",
        "# univariate analysis\n",
        "\n",
        "finance_df1.columns"
      ],
      "execution_count": 106,
      "outputs": [
        {
          "output_type": "execute_result",
          "data": {
            "text/plain": [
              "Index(['country', 'uniqueid', 'year', 'Has a Bank account', 'Type of Location',\n",
              "       'Cell Phone Access', 'household_size', 'Respondent Age',\n",
              "       'gender_of_respondent', 'The relationship with head', 'marital_status',\n",
              "       'Level of Educuation', 'Type of Job'],\n",
              "      dtype='object')"
            ]
          },
          "metadata": {
            "tags": []
          },
          "execution_count": 106
        }
      ]
    },
    {
      "cell_type": "code",
      "metadata": {
        "id": "Co90EyZE2P2O",
        "colab_type": "code",
        "colab": {
          "base_uri": "https://localhost:8080/",
          "height": 34
        },
        "outputId": "f4a892ec-80e2-404b-fef5-c589b1774031"
      },
      "source": [
        "# Checking the mean age\n",
        "\n",
        "mean_age = finance_df1['Respondent Age'].mean()\n",
        "\n",
        "mean_age = round(mean_age)\n",
        "mean_age"
      ],
      "execution_count": 85,
      "outputs": [
        {
          "output_type": "execute_result",
          "data": {
            "text/plain": [
              "39"
            ]
          },
          "metadata": {
            "tags": []
          },
          "execution_count": 85
        }
      ]
    },
    {
      "cell_type": "code",
      "metadata": {
        "id": "mBndtQKp3j6P",
        "colab_type": "code",
        "colab": {
          "base_uri": "https://localhost:8080/",
          "height": 34
        },
        "outputId": "dbe53698-28bd-4209-bd63-d829da3f661a"
      },
      "source": [
        "# Checking mean household size\n",
        "\n",
        "mean_house = finance_df1['household_size'].mean()\n",
        "\n",
        "mean_house = round(mean_house)\n",
        "mean_house"
      ],
      "execution_count": 86,
      "outputs": [
        {
          "output_type": "execute_result",
          "data": {
            "text/plain": [
              "4"
            ]
          },
          "metadata": {
            "tags": []
          },
          "execution_count": 86
        }
      ]
    },
    {
      "cell_type": "code",
      "metadata": {
        "id": "F8N5s47t30O1",
        "colab_type": "code",
        "colab": {
          "base_uri": "https://localhost:8080/",
          "height": 85
        },
        "outputId": "8eade300-a1e3-4a33-cb89-9700e4d58712"
      },
      "source": [
        "# Checking IQR\n",
        "\n",
        "Q1 = finance_df1.quantile(0.25)\n",
        "Q3 = finance_df1.quantile(0.75)\n",
        "\n",
        "IQR = Q3 - Q1\n",
        "\n",
        "print(IQR)"
      ],
      "execution_count": 97,
      "outputs": [
        {
          "output_type": "stream",
          "text": [
            "year               2.0\n",
            "household_size     3.0\n",
            "Respondent Age    23.0\n",
            "dtype: float64\n"
          ],
          "name": "stdout"
        }
      ]
    },
    {
      "cell_type": "code",
      "metadata": {
        "id": "6DrjMW0RT0i_",
        "colab_type": "code",
        "outputId": "eab20721-46aa-4d96-e15d-53dd6c853e06",
        "colab": {
          "base_uri": "https://localhost:8080/",
          "height": 264
        }
      },
      "source": [
        "\n",
        "# Pie chart for respondents who hold a bank account\n",
        "\n",
        "fin = finance_df1['Has a Bank account'].value_counts()\n",
        "\n",
        "fin_val = fin.values.tolist()\n",
        "\n",
        "labels = fin.keys().tolist()\n",
        "plt.pie(fin_val, labels = labels, autopct = '%1.1f%%', shadow = True, startangle = 140)\n",
        "\n",
        "plt.title('Pie Chart of Portion of Individuals With & Without Bank Account')\n",
        "plt.show()"
      ],
      "execution_count": 18,
      "outputs": [
        {
          "output_type": "display_data",
          "data": {
            "image/png": "[encoded data removed]",
            "text/plain": [
              "<Figure size 432x288 with 1 Axes>"
            ]
          },
          "metadata": {
            "tags": []
          }
        }
      ]
    },
    {
      "cell_type": "code",
      "metadata": {
        "id": "6te3wU1ybIwm",
        "colab_type": "code",
        "outputId": "8cf1b736-cba5-40c9-d24d-a7433bd112d6",
        "colab": {
          "base_uri": "https://localhost:8080/",
          "height": 264
        }
      },
      "source": [
        "# Pie chart for respondents level of education\n",
        "\n",
        "edu = finance_df1['Level of Educuation'].value_counts()\n",
        "\n",
        "edu_values = edu.values.tolist()\n",
        "lables = edu.keys().tolist()\n",
        "\n",
        "plt.pie(edu_values, labels = lables, autopct = '%1.1f%%', shadow = True, startangle = 200)\n",
        "\n",
        "plt.title('Level of Education')\n",
        "plt.show()"
      ],
      "execution_count": 0,
      "outputs": [
        {
          "output_type": "display_data",
          "data": {
            "image/png": "[encoded data removed]",
            "text/plain": [
              "<Figure size 432x288 with 1 Axes>"
            ]
          },
          "metadata": {
            "tags": []
          }
        }
      ]
    },
    {
      "cell_type": "code",
      "metadata": {
        "id": "w_8LIEfNfmUI",
        "colab_type": "code",
        "outputId": "9ae14d94-ac2f-4238-f860-30d8294528b5",
        "colab": {
          "base_uri": "https://localhost:8080/",
          "height": 264
        }
      },
      "source": [
        "# Pie chart for respondent`s job type\n",
        "\n",
        "job = finance_df1['Type of Job'].value_counts()\n",
        "\n",
        "job_values = job.values.tolist()\n",
        "lables = job.keys().tolist()\n",
        "\n",
        "plt.pie(job_values, labels = lables, autopct = '%1.1f%%', shadow = True, startangle = 140)\n",
        "\n",
        "plt.title('Type of Job')\n",
        "plt.show()"
      ],
      "execution_count": 107,
      "outputs": [
        {
          "output_type": "display_data",
          "data": {
            "image/png": "[encoded data removed]",
            "text/plain": [
              "<Figure size 432x288 with 1 Axes>"
            ]
          },
          "metadata": {
            "tags": []
          }
        }
      ]
    },
    {
      "cell_type": "code",
      "metadata": {
        "id": "VLzVbNbV84lS",
        "colab_type": "code",
        "colab": {
          "base_uri": "https://localhost:8080/",
          "height": 264
        },
        "outputId": "96aa76b5-8f82-4eba-f268-a10889594564"
      },
      "source": [
        "# Pie chart of respondents location \n",
        "\n",
        "location = finance_df1['Type of Location'].value_counts()\n",
        "\n",
        "location_val = location.values.tolist()\n",
        "\n",
        "labels = location.keys().tolist()\n",
        "plt.pie(location_val, labels = labels, autopct = '%1.1f%%', shadow = True, startangle = 140)\n",
        "\n",
        "plt.title('Respondents By Location')\n",
        "plt.show()"
      ],
      "execution_count": 109,
      "outputs": [
        {
          "output_type": "display_data",
          "data": {
            "image/png": "[encoded data removed]",
            "text/plain": [
              "<Figure size 432x288 with 1 Axes>"
            ]
          },
          "metadata": {
            "tags": []
          }
        }
      ]
    },
    {
      "cell_type": "code",
      "metadata": {
        "id": "P5xTnqCV9vy-",
        "colab_type": "code",
        "colab": {
          "base_uri": "https://localhost:8080/",
          "height": 264
        },
        "outputId": "aa845e3a-431e-4170-9b62-007b3043cdbe"
      },
      "source": [
        "# Pie chart of respondents with phone access\n",
        "\n",
        "phone = finance_df1['Cell Phone Access'].value_counts()\n",
        "\n",
        "phone_val = phone.values.tolist()\n",
        "\n",
        "labels = phone.keys().tolist()\n",
        "plt.pie(phone_val, labels = labels, autopct = '%1.1f%%', shadow = True, startangle = 140)\n",
        "\n",
        "plt.title('Access to Phone')\n",
        "plt.show()"
      ],
      "execution_count": 112,
      "outputs": [
        {
          "output_type": "display_data",
          "data": {
            "image/png": "[encoded data removed]",
            "text/plain": [
              "<Figure size 432x288 with 1 Axes>"
            ]
          },
          "metadata": {
            "tags": []
          }
        }
      ]
    },
    {
      "cell_type": "code",
      "metadata": {
        "id": "E3TDfoUMAhEr",
        "colab_type": "code",
        "colab": {
          "base_uri": "https://localhost:8080/",
          "height": 264
        },
        "outputId": "66b3048c-c6ec-4557-a2d8-b03855a090a0"
      },
      "source": [
        "# Pie chart of respondents gender\n",
        "\n",
        "gender_resp = finance_df1['gender_of_respondent'].value_counts()\n",
        "\n",
        "gender_val = gender_resp.values.tolist()\n",
        "\n",
        "labels = gender_resp.keys().tolist()\n",
        "plt.pie(gender_val, labels = labels, autopct = '%1.1f%%', shadow = True, startangle = 140)\n",
        "\n",
        "plt.title('Gender')\n",
        "plt.show()"
      ],
      "execution_count": 134,
      "outputs": [
        {
          "output_type": "display_data",
          "data": {
            "image/png": "[encoded data removed]",
            "text/plain": [
              "<Figure size 432x288 with 1 Axes>"
            ]
          },
          "metadata": {
            "tags": []
          }
        }
      ]
    },
    {
      "cell_type": "markdown",
      "metadata": {
        "id": "12GI7trwQGbT",
        "colab_type": "text"
      },
      "source": [
        "### b) Bivariate Exploratory Analysis"
      ]
    },
    {
      "cell_type": "code",
      "metadata": {
        "id": "beH12ypUgbcF",
        "colab_type": "code",
        "outputId": "78adbc84-0649-423a-de31-67c3f9649eb5",
        "colab": {
          "base_uri": "https://localhost:8080/",
          "height": 102
        }
      },
      "source": [
        "finance_df1.columns"
      ],
      "execution_count": 110,
      "outputs": [
        {
          "output_type": "execute_result",
          "data": {
            "text/plain": [
              "Index(['country', 'uniqueid', 'year', 'Has a Bank account', 'Type of Location',\n",
              "       'Cell Phone Access', 'household_size', 'Respondent Age',\n",
              "       'gender_of_respondent', 'The relationship with head', 'marital_status',\n",
              "       'Level of Educuation', 'Type of Job'],\n",
              "      dtype='object')"
            ]
          },
          "metadata": {
            "tags": []
          },
          "execution_count": 110
        }
      ]
    },
    {
      "cell_type": "code",
      "metadata": {
        "id": "_otwCmN4hUwb",
        "colab_type": "code",
        "colab": {
          "base_uri": "https://localhost:8080/",
          "height": 618
        },
        "outputId": "2b2608b8-a11a-4677-bea9-c0a66cdbda79"
      },
      "source": [
        "# ploting the frequency distribution of year, household_size and respondent age\n",
        "\n",
        "col_names = ['household_size', 'Respondent Age']\n",
        "\n",
        "fig, ax = plt.subplots(len(col_names), figsize=(8,10))\n",
        "\n",
        "for i, col_val in enumerate(col_names):\n",
        "  sns.distplot(finance_df1[col_val], hist=True, ax=ax[i], color='blue')\n",
        "  ax[i].set_title('Frequency Dist - ' + col_val, fontsize=10)\n",
        "  ax[i].set_xlabel(col_val, fontsize=8)\n",
        "  ax[i].set_ylabel(col_val, fontsize=8)"
      ],
      "execution_count": 132,
      "outputs": [
        {
          "output_type": "display_data",
          "data": {
            "image/png": "[encoded data removed]",
            "text/plain": [
              "<Figure size 576x720 with 2 Axes>"
            ]
          },
          "metadata": {
            "tags": [],
            "needs_background": "light"
          }
        }
      ]
    },
    {
      "cell_type": "code",
      "metadata": {
        "id": "0OR8kWXOjSta",
        "colab_type": "code",
        "outputId": "6adc66c8-255b-4578-a213-37a4d1850a65",
        "colab": {
          "base_uri": "https://localhost:8080/",
          "height": 493
        }
      },
      "source": [
        "fig, ((ax1, ax2)) = plt.subplots(2, figsize=(10, 7))\n",
        "fig.suptitle('Boxplots')\n",
        "sns.boxplot(finance_df1['household_size'], ax=ax1)\n",
        "sns.boxplot(finance_df1['Respondent Age'], ax=ax2)\n",
        "\n",
        "\n",
        "plt.show()"
      ],
      "execution_count": 21,
      "outputs": [
        {
          "output_type": "display_data",
          "data": {
            "image/png": "[encoded data removed]",
            "text/plain": [
              "<Figure size 720x504 with 2 Axes>"
            ]
          },
          "metadata": {
            "tags": [],
            "needs_background": "light"
          }
        }
      ]
    },
    {
      "cell_type": "code",
      "metadata": {
        "id": "Tqig8CO0iA7_",
        "colab_type": "code",
        "outputId": "718fa970-260e-4b10-8d4c-82360c52a862",
        "colab": {
          "base_uri": "https://localhost:8080/",
          "height": 567
        }
      },
      "source": [
        "sns.pairplot(finance_df1)\n",
        "plt.show()"
      ],
      "execution_count": 22,
      "outputs": [
        {
          "output_type": "display_data",
          "data": {
            "image/png": "[encoded data removed]",
            "text/plain": [
              "<Figure size 540x540 with 12 Axes>"
            ]
          },
          "metadata": {
            "tags": [],
            "needs_background": "light"
          }
        }
      ]
    },
    {
      "cell_type": "code",
      "metadata": {
        "id": "NwQ26zLCiT9L",
        "colab_type": "code",
        "outputId": "384db159-2290-49ea-b968-3839f3c830a9",
        "colab": {
          "base_uri": "https://localhost:8080/",
          "height": 270
        }
      },
      "source": [
        "sns.heatmap(finance_df1.corr(),annot=True)\n",
        "plt.show()"
      ],
      "execution_count": 0,
      "outputs": [
        {
          "output_type": "display_data",
          "data": {
            "image/png": "[encoded data removed]",
            "text/plain": [
              "<Figure size 432x288 with 2 Axes>"
            ]
          },
          "metadata": {
            "tags": [],
            "needs_background": "light"
          }
        }
      ]
    },
    {
      "cell_type": "markdown",
      "metadata": {
        "id": "lgSXkvOZQMS2",
        "colab_type": "text"
      },
      "source": [
        "### c) Multivariate Exploratory Analysis"
      ]
    },
    {
      "cell_type": "code",
      "metadata": {
        "id": "E8PkQkkxifsW",
        "colab_type": "code",
        "colab": {
          "base_uri": "https://localhost:8080/",
          "height": 102
        },
        "outputId": "dffae5bb-9fa2-49b4-e39f-c14c5bc12d6d"
      },
      "source": [
        "finance_df1.columns"
      ],
      "execution_count": 23,
      "outputs": [
        {
          "output_type": "execute_result",
          "data": {
            "text/plain": [
              "Index(['country', 'year', 'uniqueid', 'Has a Bank account', 'Type of Location',\n",
              "       'Cell Phone Access', 'household_size', 'Respondent Age',\n",
              "       'gender_of_respondent', 'The relathip with head', 'marital_status',\n",
              "       'Level of Educuation', 'Type of Job'],\n",
              "      dtype='object')"
            ]
          },
          "metadata": {
            "tags": []
          },
          "execution_count": 23
        }
      ]
    },
    {
      "cell_type": "code",
      "metadata": {
        "id": "DGaTnRRCj2JX",
        "colab_type": "code",
        "colab": {}
      },
      "source": [
        "# Before implementing dimension reduction, I need to make sure that my dataframe \n",
        "# has numeric values. I will also remove the columns that i do not need.\n",
        "\n",
        "finance_reduction = finance_df1.drop('uniqueid', axis=1)\n"
      ],
      "execution_count": 0,
      "outputs": []
    },
    {
      "cell_type": "code",
      "metadata": {
        "id": "qLiF9Ph5ruSC",
        "colab_type": "code",
        "colab": {}
      },
      "source": [
        "finance_reduction.columns = ['country', 'year', 'Has a Bank account', 'Type of Location',\n",
        "       'Cell Phone Access', 'household_size', 'Respondent Age',\n",
        "       'gender_of_respondent', 'The relationship with head', 'marital_status',\n",
        "       'Level of Educuation', 'Type of Job']"
      ],
      "execution_count": 0,
      "outputs": []
    },
    {
      "cell_type": "code",
      "metadata": {
        "id": "CFBlZTsfkmD4",
        "colab_type": "code",
        "colab": {}
      },
      "source": [
        "# I need give values 'Has a Bank account', 'Type of Location',\n",
        "# 'Cell Phone Access' and 'Respondent Age' dummy values of \"0\" and \"1\"\n",
        "\n",
        "def bank_account(x):\n",
        "\n",
        "  if x == \"Yes\":\n",
        "    return 1\n",
        "  else:\n",
        "    return 0\n",
        "\n",
        "def gender(x):\n",
        "  if x == \"Male\":\n",
        "    return 1\n",
        "  else:\n",
        "    return 0\n",
        "\n",
        "def location(x):\n",
        "  if x == \"Urban\":\n",
        "    return 1\n",
        "  else:\n",
        "    return 0\n",
        "\n",
        "def phone(x):\n",
        "  if x == \"Yes\":\n",
        "    return 1\n",
        "  else:\n",
        "    return 0"
      ],
      "execution_count": 0,
      "outputs": []
    },
    {
      "cell_type": "code",
      "metadata": {
        "id": "QTMtyQ6bm5Df",
        "colab_type": "code",
        "colab": {}
      },
      "source": [
        "# Using the functions above to apply dummy values to the specific variables\n",
        "\n",
        "finance_reduction['Has a Bank account'] = finance_reduction['Has a Bank account'].apply(lambda x:bank_account(x))\n",
        "\n",
        "finance_reduction['gender_of_respondent'] = finance_reduction['gender_of_respondent'].apply(lambda x:gender(x))\n",
        "\n",
        "finance_reduction['Type of Location'] = finance_reduction['Type of Location'].apply(lambda x:location(x))\n",
        "\n",
        "finance_reduction['Cell Phone Access'] = finance_reduction['Cell Phone Access'].apply(lambda x:phone(x))"
      ],
      "execution_count": 0,
      "outputs": []
    },
    {
      "cell_type": "code",
      "metadata": {
        "id": "c93vXdNGo0NV",
        "colab_type": "code",
        "colab": {
          "base_uri": "https://localhost:8080/",
          "height": 34
        },
        "outputId": "0184efd9-d1ef-4fd7-c075-9055d09ca168"
      },
      "source": [
        "finance_reduction['Respondent Age'].max()"
      ],
      "execution_count": 29,
      "outputs": [
        {
          "output_type": "execute_result",
          "data": {
            "text/plain": [
              "100.0"
            ]
          },
          "metadata": {
            "tags": []
          },
          "execution_count": 29
        }
      ]
    },
    {
      "cell_type": "code",
      "metadata": {
        "id": "UEa42AcXqP-j",
        "colab_type": "code",
        "colab": {}
      },
      "source": [
        "# Creating dummy variables for the other variables\n",
        "\n",
        "finance_reduction = pd.get_dummies(finance_reduction, columns=['The relationship with head'], prefix = ['R.W.H'])\n",
        "finance_reduction = pd.get_dummies(finance_reduction, columns=['year'], prefix = ['Year'])\n",
        "finance_reduction = pd.get_dummies(finance_reduction, columns=['marital_status'], prefix = ['Status'])\n",
        "finance_reduction = pd.get_dummies(finance_reduction, columns=['Level of Educuation'], prefix = ['Education'])\n",
        "finance_reduction = pd.get_dummies(finance_reduction, columns=['Type of Job'], prefix = ['Job'])\n",
        "finance_reduction = pd.get_dummies(finance_reduction, columns=['country'], prefix = ['Country'])"
      ],
      "execution_count": 0,
      "outputs": []
    },
    {
      "cell_type": "code",
      "metadata": {
        "id": "iAIIz9d0uiig",
        "colab_type": "code",
        "colab": {
          "base_uri": "https://localhost:8080/",
          "height": 102
        },
        "outputId": "7dc74818-646d-4402-eaf1-08289935d21a"
      },
      "source": [
        "finance_df1.columns"
      ],
      "execution_count": 49,
      "outputs": [
        {
          "output_type": "execute_result",
          "data": {
            "text/plain": [
              "Index(['country', 'year', 'uniqueid', 'Has a Bank account', 'Type of Location',\n",
              "       'Cell Phone Access', 'household_size', 'Respondent Age',\n",
              "       'gender_of_respondent', 'The relathip with head', 'marital_status',\n",
              "       'Level of Educuation', 'Type of Job'],\n",
              "      dtype='object')"
            ]
          },
          "metadata": {
            "tags": []
          },
          "execution_count": 49
        }
      ]
    },
    {
      "cell_type": "code",
      "metadata": {
        "id": "o40q4CD_uQDP",
        "colab_type": "code",
        "colab": {}
      },
      "source": [
        "# Preprocessing\n",
        "\n",
        "X = finance_reduction.drop('Has a Bank account', axis=1)\n",
        "y = finance_reduction['Has a Bank account']"
      ],
      "execution_count": 0,
      "outputs": []
    },
    {
      "cell_type": "code",
      "metadata": {
        "id": "kxjC54XMvLa-",
        "colab_type": "code",
        "colab": {}
      },
      "source": [
        "# Splitting the dataset into the Training set and Test set\n",
        "\n",
        "from sklearn.model_selection import train_test_split\n",
        "\n",
        "X_train, X_test, y_train,y_test=train_test_split(X,y,train_size=0.8,random_state=101)"
      ],
      "execution_count": 0,
      "outputs": []
    },
    {
      "cell_type": "code",
      "metadata": {
        "id": "KDxizyngvqY2",
        "colab_type": "code",
        "colab": {}
      },
      "source": [
        "# Normalization\n",
        "\n",
        "from sklearn.preprocessing import StandardScaler\n",
        "\n",
        "sc = StandardScaler()\n",
        "X_train = sc.fit_transform(X_train)\n",
        "X_test = sc.transform(X_test)"
      ],
      "execution_count": 0,
      "outputs": []
    },
    {
      "cell_type": "code",
      "metadata": {
        "id": "yXu3JKpTyZaa",
        "colab_type": "code",
        "colab": {}
      },
      "source": [
        "# Applying PCA - Using 1 Principal Component\n",
        "\n",
        "from sklearn.decomposition import PCA\n",
        "\n",
        "pca = PCA()\n",
        "X_train = pca.fit_transform(X_train)\n",
        "X_test = pca.transform(X_test)"
      ],
      "execution_count": 0,
      "outputs": []
    },
    {
      "cell_type": "code",
      "metadata": {
        "id": "pQy-ShyoyyA7",
        "colab_type": "code",
        "colab": {
          "base_uri": "https://localhost:8080/",
          "height": 204
        },
        "outputId": "c9f40af8-9873-431f-c88a-40284b78bb5e"
      },
      "source": [
        "# Explained Variance Ratio\n",
        "\n",
        "explained_variance = pca.explained_variance_ratio_\n",
        "\n",
        "explained_variance\n"
      ],
      "execution_count": 70,
      "outputs": [
        {
          "output_type": "execute_result",
          "data": {
            "text/plain": [
              "array([1.09629878e-01, 7.57849632e-02, 6.40251949e-02, 5.17481123e-02,\n",
              "       4.62518328e-02, 3.89150552e-02, 3.61727793e-02, 3.32441545e-02,\n",
              "       3.00564088e-02, 2.86538066e-02, 2.53020025e-02, 2.46915084e-02,\n",
              "       2.40657313e-02, 2.37814972e-02, 2.37316177e-02, 2.35101100e-02,\n",
              "       2.32595422e-02, 2.32143959e-02, 2.31985279e-02, 2.29149517e-02,\n",
              "       2.28419571e-02, 2.24675685e-02, 2.23368269e-02, 2.20877704e-02,\n",
              "       2.15283668e-02, 1.95200933e-02, 1.84199334e-02, 1.75874919e-02,\n",
              "       1.50315568e-02, 1.40639373e-02, 1.36138354e-02, 1.07132544e-02,\n",
              "       1.03917519e-02, 9.73154013e-03, 7.51204521e-03, 1.41269164e-31,\n",
              "       1.88686544e-32, 3.05778497e-33, 2.72723854e-33, 2.28945410e-33,\n",
              "       2.00159726e-33, 1.41750175e-33, 9.01499169e-34])"
            ]
          },
          "metadata": {
            "tags": []
          },
          "execution_count": 70
        }
      ]
    },
    {
      "cell_type": "code",
      "metadata": {
        "id": "DqT4-j4IzGny",
        "colab_type": "code",
        "colab": {}
      },
      "source": [
        "# Training and Making Predictions\n",
        "\n",
        "from sklearn.ensemble import RandomForestClassifier\n",
        "\n",
        "classifier = RandomForestClassifier(max_depth=2, random_state=0)\n",
        "classifier.fit(X_train, y_train)\n",
        "\n",
        "# Predicting the Test set results\n",
        "y_pred = classifier.predict(X_test)"
      ],
      "execution_count": 0,
      "outputs": []
    },
    {
      "cell_type": "code",
      "metadata": {
        "id": "rXP7tjR3zT19",
        "colab_type": "code",
        "colab": {
          "base_uri": "https://localhost:8080/",
          "height": 68
        },
        "outputId": "daa7d136-e62f-4017-97dd-32ba3c7c0c41"
      },
      "source": [
        "# Performance Evaluation\n",
        "\n",
        "from sklearn.metrics import confusion_matrix\n",
        "from sklearn.metrics import accuracy_score\n",
        "\n",
        "cm = confusion_matrix(y_test, y_pred)\n",
        "print(cm)\n",
        "print('Accuracy' , accuracy_score(y_test, y_pred))"
      ],
      "execution_count": 73,
      "outputs": [
        {
          "output_type": "stream",
          "text": [
            "[[3999    5]\n",
            " [ 636   29]]\n",
            "Accuracy 0.862711501392161\n"
          ],
          "name": "stdout"
        }
      ]
    },
    {
      "cell_type": "code",
      "metadata": {
        "id": "WuH2qYhc0EKU",
        "colab_type": "code",
        "colab": {}
      },
      "source": [
        "# Using Two Principal components\n",
        "\n",
        "from sklearn.decomposition import PCA\n",
        "\n",
        "pca = PCA(n_components=2)\n",
        "X_train = pca.fit_transform(X_train)\n",
        "X_test = pca.transform(X_test)"
      ],
      "execution_count": 0,
      "outputs": []
    },
    {
      "cell_type": "code",
      "metadata": {
        "id": "bEF6Z8YQ0akO",
        "colab_type": "code",
        "colab": {}
      },
      "source": [
        "# Training and making Predictions\n",
        "\n",
        "from sklearn.ensemble import RandomForestClassifier\n",
        "\n",
        "classifier = RandomForestClassifier(max_depth=2, random_state=0)\n",
        "classifier.fit(X_train, y_train)\n",
        "\n",
        "# Predicting the Test set results\n",
        "y_pred = classifier.predict(X_test)"
      ],
      "execution_count": 0,
      "outputs": []
    },
    {
      "cell_type": "code",
      "metadata": {
        "id": "3yz3WdBi0ccq",
        "colab_type": "code",
        "colab": {
          "base_uri": "https://localhost:8080/",
          "height": 68
        },
        "outputId": "195d4449-43c5-4a03-959a-b690fa55771e"
      },
      "source": [
        "# Performance evaluation with 2 PCA\n",
        "\n",
        "from sklearn.metrics import confusion_matrix\n",
        "from sklearn.metrics import accuracy_score\n",
        "\n",
        "cm = confusion_matrix(y_test, y_pred)\n",
        "print(cm)\n",
        "print('Accuracy' , accuracy_score(y_test, y_pred))"
      ],
      "execution_count": 80,
      "outputs": [
        {
          "output_type": "stream",
          "text": [
            "[[4004    0]\n",
            " [ 665    0]]\n",
            "Accuracy 0.8575712143928036\n"
          ],
          "name": "stdout"
        }
      ]
    },
    {
      "cell_type": "markdown",
      "metadata": {
        "id": "ez1pUFnoQZQF",
        "colab_type": "text"
      },
      "source": [
        "## 7. Implementing the Solution"
      ]
    },
    {
      "cell_type": "markdown",
      "metadata": {
        "id": "jPiXZrhuQfji",
        "colab_type": "text"
      },
      "source": [
        "## 8. Challenging the Solution"
      ]
    },
    {
      "cell_type": "markdown",
      "metadata": {
        "id": "O_szsl5TQkYB",
        "colab_type": "text"
      },
      "source": [
        "## 9. Follow up Questions "
      ]
    }
  ]
}